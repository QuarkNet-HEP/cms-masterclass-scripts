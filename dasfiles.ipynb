{
 "cells": [
  {
   "cell_type": "code",
   "execution_count": 3,
   "id": "e924128e-ea90-4013-9276-420d1340b8e3",
   "metadata": {},
   "outputs": [],
   "source": [
    "import pandas as pd"
   ]
  },
  {
   "cell_type": "code",
   "execution_count": 21,
   "id": "ee2ba053-15c1-4530-b962-f59d0b49de65",
   "metadata": {},
   "outputs": [],
   "source": [
    "def make_run_event_lumi(df):\n",
    "    return [f'{r}:{e}:{l}' for r,e,l in zip(df['Run'].tolist(), df['Event'].tolist(), df['Lumi'].tolist())]"
   ]
  },
  {
   "cell_type": "code",
   "execution_count": 22,
   "id": "cbbc1317-f37f-4287-93bd-0ff517ec31eb",
   "metadata": {},
   "outputs": [],
   "source": [
    "command = \"/cvmfs/cms.cern.ch/common/dasgoclient\"\n",
    "\n",
    "inputs = [\n",
    "    {\n",
    "        'name': 'DoubleEG_2016G', \n",
    "        'run_event_lumi': make_run_event_lumi(pd.read_csv('csv/DoubleEG_2016G.csv')),\n",
    "        'dataset': '/DoubleEG/Run2016G-UL2016_MiniAODv2-v1/MINIAOD'\n",
    "    },\n",
    "    {\n",
    "        'name': 'DoubleEG_2016H',\n",
    "        'run_event_lumi': make_run_event_lumi(pd.read_csv('csv/DoubleEG_2016H.csv')),\n",
    "        'dataset': '/DoubleEG/Run2016H-UL2016_MiniAODv2-v1/MINIAOD',\n",
    "    },\n",
    "    {\n",
    "        'name': 'DoubleMu_2016G',\n",
    "        'run_event_lumi': make_run_event_lumi(pd.read_csv('csv/DoubleMu_2016G.csv')),\n",
    "        'dataset': '/DoubleMuon/Run2016G-UL2016_MiniAODv2-v1/MINIAOD',\n",
    "    },\n",
    "    {\n",
    "        'name': 'DoubleMu_2016H',\n",
    "        'run_event_lumi': make_run_event_lumi(pd.read_csv('csv/DoubleMu_2016H.csv')),\n",
    "        'dataset': '/DoubleMuon/Run2016H-UL2016_MiniAODv2-v2/MINIAOD',\n",
    "    }\n",
    "]\n"
   ]
  },
  {
   "cell_type": "code",
   "execution_count": 29,
   "id": "9703ec22-00b4-453e-96b3-1ab744b20370",
   "metadata": {},
   "outputs": [],
   "source": [
    "for i in inputs:\n",
    "\n",
    "    name = i['name']\n",
    "    dasfile = open(f'dasfile_{name}.sh', 'w')\n",
    "\n",
    "    run_event_lumi = i['run_event_lumi']\n",
    "    dataset = i['dataset']\n",
    "\n",
    "    for rel in run_event_lumi:\n",
    "\n",
    "        run = rel.split(':')[0]\n",
    "        lumi = rel.split(':')[2]\n",
    "        query = f'{command} -query=\"file dataset={dataset} run={run} lumi={lumi}\"\\n'\n",
    "        dasfile.write(query)\n",
    "\n",
    "    dasfile.close()"
   ]
  },
  {
   "cell_type": "code",
   "execution_count": 22,
   "id": "9e3cab1b-3bac-4deb-b91f-49d9872fba3d",
   "metadata": {},
   "outputs": [],
   "source": [
    "prefix = 'root://eospublic.cern.ch//eos/opendata/cms'\n",
    "\n",
    "queries = open('queries.txt', 'r')\n",
    "newfiles = open('newfiles.txt', 'w')\n",
    "\n",
    "for l in queries.readlines():\n",
    "\n",
    "    nl = l.replace('/store/data', prefix)\n",
    "    newfiles.write(f'{nl.strip()}\\n')\n",
    "\n",
    "queries.close()\n",
    "newfiles.close()"
   ]
  },
  {
   "cell_type": "code",
   "execution_count": null,
   "id": "21b3d4da-f52b-4a2d-9e93-577d3333170d",
   "metadata": {},
   "outputs": [],
   "source": []
  }
 ],
 "metadata": {
  "kernelspec": {
   "display_name": "Python 3 (ipykernel)",
   "language": "python",
   "name": "python3"
  },
  "language_info": {
   "codemirror_mode": {
    "name": "ipython",
    "version": 3
   },
   "file_extension": ".py",
   "mimetype": "text/x-python",
   "name": "python",
   "nbconvert_exporter": "python",
   "pygments_lexer": "ipython3",
   "version": "3.11.5"
  }
 },
 "nbformat": 4,
 "nbformat_minor": 5
}
