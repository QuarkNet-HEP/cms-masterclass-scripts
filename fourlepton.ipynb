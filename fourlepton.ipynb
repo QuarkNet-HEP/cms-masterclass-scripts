{
 "cells": [
  {
   "cell_type": "code",
   "execution_count": 1,
   "id": "66901752-6116-43c8-8580-7e053e2bb77f",
   "metadata": {},
   "outputs": [],
   "source": [
    "import pandas as pd"
   ]
  },
  {
   "cell_type": "code",
   "execution_count": 3,
   "id": "f230436f-d4cd-4472-8e3a-c7e1e8e8dea4",
   "metadata": {},
   "outputs": [],
   "source": [
    "fourl = pd.concat(\n",
    "    [\n",
    "        pd.read_csv('csv/DoubleEG_2016G.csv'), \n",
    "        pd.read_csv('csv/DoubleEG_2016H.csv'),\n",
    "        pd.read_csv('csv/DoubleMu_2016G.csv'),\n",
    "        pd.read_csv('csv/DoubleMu_2016H.csv')\n",
    "    ]\n",
    ")               "
   ]
  },
  {
   "cell_type": "code",
   "execution_count": 4,
   "id": "ac68640e-7e37-4ce5-869f-a78a2e9adaa1",
   "metadata": {},
   "outputs": [
    {
     "data": {
      "text/html": [
       "<div>\n",
       "<style scoped>\n",
       "    .dataframe tbody tr th:only-of-type {\n",
       "        vertical-align: middle;\n",
       "    }\n",
       "\n",
       "    .dataframe tbody tr th {\n",
       "        vertical-align: top;\n",
       "    }\n",
       "\n",
       "    .dataframe thead th {\n",
       "        text-align: right;\n",
       "    }\n",
       "</style>\n",
       "<table border=\"1\" class=\"dataframe\">\n",
       "  <thead>\n",
       "    <tr style=\"text-align: right;\">\n",
       "      <th></th>\n",
       "      <th>Run</th>\n",
       "      <th>Event</th>\n",
       "      <th>Lumi</th>\n",
       "      <th>PID1</th>\n",
       "      <th>E1</th>\n",
       "      <th>px1</th>\n",
       "      <th>py1</th>\n",
       "      <th>pz1</th>\n",
       "      <th>pt1</th>\n",
       "      <th>eta1</th>\n",
       "      <th>...</th>\n",
       "      <th>px4</th>\n",
       "      <th>py4</th>\n",
       "      <th>pz4</th>\n",
       "      <th>pt4</th>\n",
       "      <th>eta4</th>\n",
       "      <th>phi4</th>\n",
       "      <th>Q4</th>\n",
       "      <th>mZ1</th>\n",
       "      <th>mZ2</th>\n",
       "      <th>mH</th>\n",
       "    </tr>\n",
       "  </thead>\n",
       "  <tbody>\n",
       "    <tr>\n",
       "      <th>0</th>\n",
       "      <td>278923</td>\n",
       "      <td>77121379</td>\n",
       "      <td>76</td>\n",
       "      <td>-11</td>\n",
       "      <td>62.8288</td>\n",
       "      <td>10.23180</td>\n",
       "      <td>41.1170</td>\n",
       "      <td>-46.39120</td>\n",
       "      <td>42.3710</td>\n",
       "      <td>-0.946899</td>\n",
       "      <td>...</td>\n",
       "      <td>12.0397</td>\n",
       "      <td>-1.728700</td>\n",
       "      <td>3.70222</td>\n",
       "      <td>12.1632</td>\n",
       "      <td>0.299866</td>\n",
       "      <td>-0.142609</td>\n",
       "      <td>1</td>\n",
       "      <td>85.2212</td>\n",
       "      <td>21.0255</td>\n",
       "      <td>128.116</td>\n",
       "    </tr>\n",
       "    <tr>\n",
       "      <th>1</th>\n",
       "      <td>279667</td>\n",
       "      <td>22971279</td>\n",
       "      <td>72</td>\n",
       "      <td>11</td>\n",
       "      <td>61.9385</td>\n",
       "      <td>-3.89047</td>\n",
       "      <td>-54.1054</td>\n",
       "      <td>29.89730</td>\n",
       "      <td>54.2451</td>\n",
       "      <td>0.526489</td>\n",
       "      <td>...</td>\n",
       "      <td>-17.1303</td>\n",
       "      <td>20.471200</td>\n",
       "      <td>-49.01560</td>\n",
       "      <td>26.6930</td>\n",
       "      <td>-1.367920</td>\n",
       "      <td>2.267580</td>\n",
       "      <td>-1</td>\n",
       "      <td>90.8834</td>\n",
       "      <td>91.5323</td>\n",
       "      <td>224.759</td>\n",
       "    </tr>\n",
       "    <tr>\n",
       "      <th>2</th>\n",
       "      <td>279667</td>\n",
       "      <td>812208114</td>\n",
       "      <td>507</td>\n",
       "      <td>11</td>\n",
       "      <td>92.0813</td>\n",
       "      <td>40.75720</td>\n",
       "      <td>82.3732</td>\n",
       "      <td>5.69861</td>\n",
       "      <td>91.9048</td>\n",
       "      <td>0.061966</td>\n",
       "      <td>...</td>\n",
       "      <td>13.5531</td>\n",
       "      <td>0.525132</td>\n",
       "      <td>24.62320</td>\n",
       "      <td>13.5633</td>\n",
       "      <td>1.357910</td>\n",
       "      <td>0.038727</td>\n",
       "      <td>1</td>\n",
       "      <td>91.0718</td>\n",
       "      <td>89.9933</td>\n",
       "      <td>301.925</td>\n",
       "    </tr>\n",
       "    <tr>\n",
       "      <th>3</th>\n",
       "      <td>279667</td>\n",
       "      <td>1738465351</td>\n",
       "      <td>997</td>\n",
       "      <td>-11</td>\n",
       "      <td>155.2600</td>\n",
       "      <td>-109.96900</td>\n",
       "      <td>-12.9998</td>\n",
       "      <td>108.82800</td>\n",
       "      <td>110.7350</td>\n",
       "      <td>0.869141</td>\n",
       "      <td>...</td>\n",
       "      <td>49.5445</td>\n",
       "      <td>12.221700</td>\n",
       "      <td>-18.84230</td>\n",
       "      <td>51.0297</td>\n",
       "      <td>-0.361328</td>\n",
       "      <td>0.241852</td>\n",
       "      <td>-1</td>\n",
       "      <td>91.9935</td>\n",
       "      <td>71.2166</td>\n",
       "      <td>446.838</td>\n",
       "    </tr>\n",
       "    <tr>\n",
       "      <th>4</th>\n",
       "      <td>279694</td>\n",
       "      <td>3989731853</td>\n",
       "      <td>2211</td>\n",
       "      <td>-11</td>\n",
       "      <td>104.6720</td>\n",
       "      <td>47.23520</td>\n",
       "      <td>-28.0274</td>\n",
       "      <td>-89.10390</td>\n",
       "      <td>54.9245</td>\n",
       "      <td>-1.260740</td>\n",
       "      <td>...</td>\n",
       "      <td>21.8170</td>\n",
       "      <td>-18.365200</td>\n",
       "      <td>-80.13530</td>\n",
       "      <td>28.5177</td>\n",
       "      <td>-1.756590</td>\n",
       "      <td>-0.699707</td>\n",
       "      <td>1</td>\n",
       "      <td>100.1460</td>\n",
       "      <td>81.2674</td>\n",
       "      <td>200.093</td>\n",
       "    </tr>\n",
       "  </tbody>\n",
       "</table>\n",
       "<p>5 rows × 42 columns</p>\n",
       "</div>"
      ],
      "text/plain": [
       "      Run       Event  Lumi  PID1        E1        px1      py1        pz1  \\\n",
       "0  278923    77121379    76   -11   62.8288   10.23180  41.1170  -46.39120   \n",
       "1  279667    22971279    72    11   61.9385   -3.89047 -54.1054   29.89730   \n",
       "2  279667   812208114   507    11   92.0813   40.75720  82.3732    5.69861   \n",
       "3  279667  1738465351   997   -11  155.2600 -109.96900 -12.9998  108.82800   \n",
       "4  279694  3989731853  2211   -11  104.6720   47.23520 -28.0274  -89.10390   \n",
       "\n",
       "        pt1      eta1  ...      px4        py4       pz4      pt4      eta4  \\\n",
       "0   42.3710 -0.946899  ...  12.0397  -1.728700   3.70222  12.1632  0.299866   \n",
       "1   54.2451  0.526489  ... -17.1303  20.471200 -49.01560  26.6930 -1.367920   \n",
       "2   91.9048  0.061966  ...  13.5531   0.525132  24.62320  13.5633  1.357910   \n",
       "3  110.7350  0.869141  ...  49.5445  12.221700 -18.84230  51.0297 -0.361328   \n",
       "4   54.9245 -1.260740  ...  21.8170 -18.365200 -80.13530  28.5177 -1.756590   \n",
       "\n",
       "       phi4  Q4       mZ1      mZ2       mH  \n",
       "0 -0.142609   1   85.2212  21.0255  128.116  \n",
       "1  2.267580  -1   90.8834  91.5323  224.759  \n",
       "2  0.038727   1   91.0718  89.9933  301.925  \n",
       "3  0.241852  -1   91.9935  71.2166  446.838  \n",
       "4 -0.699707   1  100.1460  81.2674  200.093  \n",
       "\n",
       "[5 rows x 42 columns]"
      ]
     },
     "execution_count": 4,
     "metadata": {},
     "output_type": "execute_result"
    }
   ],
   "source": [
    "fourl.head()"
   ]
  },
  {
   "cell_type": "code",
   "execution_count": 5,
   "id": "c6a0010f-ead7-4a15-9d86-10c1bd9c90f9",
   "metadata": {},
   "outputs": [
    {
     "data": {
      "text/plain": [
       "1033"
      ]
     },
     "execution_count": 5,
     "metadata": {},
     "output_type": "execute_result"
    }
   ],
   "source": [
    "len(fourl)"
   ]
  },
  {
   "cell_type": "code",
   "execution_count": 6,
   "id": "72b630cf-3860-436a-b310-34a099abac2e",
   "metadata": {},
   "outputs": [],
   "source": [
    "fourl = fourl.drop_duplicates(subset=['Event'], keep='first')"
   ]
  },
  {
   "cell_type": "code",
   "execution_count": 7,
   "id": "c523b0e8-98dc-445f-b77e-0eb1eb8708bd",
   "metadata": {},
   "outputs": [
    {
     "data": {
      "text/plain": [
       "838"
      ]
     },
     "execution_count": 7,
     "metadata": {},
     "output_type": "execute_result"
    }
   ],
   "source": [
    "len(fourl)"
   ]
  },
  {
   "cell_type": "code",
   "execution_count": null,
   "id": "e9e52f3b-a8bd-4f9c-8f89-890673675954",
   "metadata": {},
   "outputs": [],
   "source": []
  }
 ],
 "metadata": {
  "kernelspec": {
   "display_name": "Python 3 (ipykernel)",
   "language": "python",
   "name": "python3"
  },
  "language_info": {
   "codemirror_mode": {
    "name": "ipython",
    "version": 3
   },
   "file_extension": ".py",
   "mimetype": "text/x-python",
   "name": "python",
   "nbconvert_exporter": "python",
   "pygments_lexer": "ipython3",
   "version": "3.11.5"
  }
 },
 "nbformat": 4,
 "nbformat_minor": 5
}
